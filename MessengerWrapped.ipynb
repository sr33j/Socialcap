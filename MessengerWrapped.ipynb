{
 "cells": [
  {
   "cell_type": "markdown",
   "metadata": {},
   "source": [
    "### Messenger Analysis Tools\n",
    "This is a notebook to provide some analysis tools on facebook messenger data. As long as all the variables are defined in a .env file (using .env.example as a template) and you have installed the requirements.txt file, you should be good to go. \n"
   ]
  },
  {
   "cell_type": "code",
   "execution_count": 1,
   "metadata": {},
   "outputs": [],
   "source": [
    "import pandas as pd\n",
    "import matplotlib.pyplot as plt\n",
    "import numpy as np\n",
    "from dotenv import load_dotenv\n",
    "\n",
    "load_dotenv()\n",
    "\n",
    "from message_analysis_tools import (\n",
    "    build_message_df,\n",
    "    get_message_counts,\n",
    "    get_response_times_from_me,\n",
    "    get_response_times_to_me,\n",
    "    get_ghost_pct,\n",
    "    get_comedian_rankings,\n",
    "    get_professor_rankings\n",
    ")"
   ]
  },
  {
   "cell_type": "markdown",
   "metadata": {},
   "source": [
    "### Measure relationship strength from messages.\n",
    "- We are going to start with a simple score of total number of messages between participants\n",
    "- We will visualize \"message imbalance\" in conversations\n",
    "- We will see how relationship strength varies over time "
   ]
  },
  {
   "cell_type": "code",
   "execution_count": null,
   "metadata": {},
   "outputs": [],
   "source": [
    "## Switch hide_names to False to see individual's names\n",
    "message_df = build_message_df(include_group_chats=False, hide_names=False)\n",
    "daily_message_counts = get_message_counts(message_df)"
   ]
  },
  {
   "cell_type": "code",
   "execution_count": null,
   "metadata": {},
   "outputs": [],
   "source": [
    "## Who are the top 10 people I talked to in the last year?\n",
    "date_last_year = (pd.Timestamp.now() - pd.Timedelta(days=365)).date()\n",
    "last_year_message_counts = daily_message_counts[daily_message_counts.date >= date_last_year].groupby('conversation_name').total.sum()\n",
    "top_message_counts = last_year_message_counts.sort_values(ascending=False).head(10)\n",
    "display(top_message_counts)"
   ]
  },
  {
   "cell_type": "code",
   "execution_count": null,
   "metadata": {},
   "outputs": [],
   "source": [
    "## Over the whole history, what is the message imbalance of the top 20 people I have talked to?\n",
    "message_count_total = daily_message_counts.drop(columns=['date']).groupby('conversation_name').sum()\n",
    "message_count_total_top =message_count_total.sort_values(by='total',ascending=False).head(20)\n",
    "message_count_total_top\n",
    "# ## make a barchart of message_total but color code by messages_from_me and messages_from_other\n",
    "plt.figure(figsize=(10,5))\n",
    "\n",
    "# set width of bar\n",
    "barWidth = 0.25\n",
    "bars1 = message_count_total_top['messages_from_me']\n",
    "bars2 = message_count_total_top['messages_from_other']\n",
    "\n",
    "# Set position of bar on X axis\n",
    "r1 = np.arange(len(bars1))\n",
    "r2 = [x + barWidth for x in r1]\n",
    "\n",
    "# Make the plot\n",
    "plt.bar(r1, bars1, color='b', width=barWidth, edgecolor='grey', label='messages_from_me')\n",
    "plt.bar(r2, bars2, color='r', width=barWidth, edgecolor='grey', label='messages_from_other')\n",
    "\n",
    "# Adding xticks\n",
    "plt.xlabel('conversation_name', fontweight='bold')\n",
    "plt.xticks([r + barWidth for r in range(len(bars1))], message_count_total_top.index, rotation=90)\n",
    "\n",
    "plt.legend()\n",
    "plt.show()"
   ]
  },
  {
   "cell_type": "code",
   "execution_count": null,
   "metadata": {},
   "outputs": [],
   "source": [
    "## Of the top 5 people I have talked to, how does our message total change over time?\n",
    "message_count_over_time = daily_message_counts[daily_message_counts.conversation_name.isin(message_count_total_top.head(5).index)]\n",
    "message_count_over_time = message_count_over_time.pivot(index='date', columns='conversation_name', values='total').sort_index()\n",
    "message_count_over_time = message_count_over_time.fillna(0).rolling(30).mean()\n",
    "plt.figure(figsize=(10,5))\n",
    "plt.plot(message_count_over_time)\n",
    "plt.legend(message_count_over_time.columns, bbox_to_anchor=(1.05, 1), loc='upper left')\n",
    "plt.show()"
   ]
  },
  {
   "cell_type": "markdown",
   "metadata": {},
   "source": [
    "### Let's look at some more complex metrics from message data\n",
    "- Reponse times\n",
    "- Amount of laughter\n",
    "- Questions"
   ]
  },
  {
   "cell_type": "code",
   "execution_count": null,
   "metadata": {},
   "outputs": [],
   "source": [
    "## Let's compare my reponse times to others to their response time to me\n",
    "response_time_to_me_df = get_response_times_to_me(message_df)\n",
    "response_time_from_me_df = get_response_times_from_me(message_df)\n",
    "\n",
    "my_ghost_pct = round(get_ghost_pct(response_time_from_me_df),3)\n",
    "others_ghost_pct = round(get_ghost_pct(response_time_to_me_df),3)\n",
    "\n",
    "print(f\"How frequently do I ghost others: {my_ghost_pct}%\")\n",
    "print(f\"How frequently do others ghost me: {others_ghost_pct}%\")\n",
    "\n",
    "\n",
    "plt.hist(np.log(response_time_to_me_df['response_time_in_min']), bins=100, alpha=0.5, label='to_me')\n",
    "plt.hist(np.log(response_time_from_me_df['response_time_in_min']), bins=100, alpha=0.5, label='from_me')\n",
    "plt.legend(loc='upper right')\n",
    "plt.title('Response Time Distribution')\n",
    "plt.xlabel('Log Response Time')\n",
    "plt.show()"
   ]
  },
  {
   "cell_type": "code",
   "execution_count": null,
   "metadata": {},
   "outputs": [],
   "source": [
    "## Who made the laught the most in the last year\n",
    "comedian_rankings = get_comedian_rankings(message_df[message_df.date >= date_last_year])\n",
    "display(comedian_rankings.head(10))"
   ]
  },
  {
   "cell_type": "code",
   "execution_count": null,
   "metadata": {},
   "outputs": [],
   "source": [
    "## Wh answers the most questions in the last year\n",
    "get_professor_rankings = get_professor_rankings(message_df[message_df.date >= date_last_year])\n",
    "display(get_professor_rankings.head(10))"
   ]
  },
  {
   "cell_type": "markdown",
   "metadata": {},
   "source": [
    "## "
   ]
  }
 ],
 "metadata": {
  "kernelspec": {
   "display_name": "socap",
   "language": "python",
   "name": "python3"
  },
  "language_info": {
   "codemirror_mode": {
    "name": "ipython",
    "version": 3
   },
   "file_extension": ".py",
   "mimetype": "text/x-python",
   "name": "python",
   "nbconvert_exporter": "python",
   "pygments_lexer": "ipython3",
   "version": "3.10.13"
  }
 },
 "nbformat": 4,
 "nbformat_minor": 2
}
